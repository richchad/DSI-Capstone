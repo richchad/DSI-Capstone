{
 "cells": [
  {
   "cell_type": "markdown",
   "metadata": {},
   "source": [
    "# When's the Money?  \n",
    "## Time Series Analysis of Online Poker Traffic\n",
    "## General Assembly Capstone Project - Richard Chadwick\n",
    "\n",
    "\n"
   ]
  },
  {
   "cell_type": "markdown",
   "metadata": {},
   "source": [
    "For the Data Science Immersive  Capstone Project I challenged myself to produce a proof of concept for a commercially viable poker product not already in existence. My data set was a years sample of game summaries from a popular poker website. \n",
    "\n",
    "With exploratory data analysis I identified two classes of poker players, professionals who consume traffic and recreational players who drive it. Using these classes I identify profitable and unprofitable components of hourly traffic, namely the number of games including at least one recreational player per hour and the number of professionals online per hour. \n",
    "\n",
    "Applying a Seasonal AutoRegressive Moving Average model to these time series, I developed one and two step ahead forecasts for each component of traffic, evaluated them and drafted a roll out strategy for a poker traffic forecasting product.\n",
    "\n",
    "Despite a relatively small data set, there is clear evidence that a poker traffic forecasting product can provide valuable information players can use to improve their overall profit. "
   ]
  },
  {
   "cell_type": "markdown",
   "metadata": {},
   "source": [
    "## Presentation and work\n",
    "Powerpoint presentation and notebooks can be viewed by clicking the titles below (presenting notebooks with nbviewer is necessary to view plotly graphs)."
   ]
  },
  {
   "cell_type": "markdown",
   "metadata": {},
   "source": [
    "### [Powerpoint presentation with notes](https://docs.google.com/presentation/d/1itoDwOIfXFC4ZXFLbjpyEphQ91OKC59xC89_1S6z6rQ/edit?usp=sharing)\n",
    "\n",
    "A walk through of the process and discussion of the proposed products and roll out strategy.\n"
   ]
  },
  {
   "cell_type": "markdown",
   "metadata": {},
   "source": [
    "### [Part 1, Anonymise and wrangle data](https://nbviewer.jupyter.org/github/richchad/DSI-Capstone/blob/master/Part%201%2C%20Anonymise%20and%20wrangle%20data.ipynb)\n",
    "\n",
    "To protect the privacy of the players the data is anonymised. In this notebook I anonymise the tournament summary data and create two additional tables for exploratory data analysis; games per hour and player summary statistics."
   ]
  },
  {
   "cell_type": "markdown",
   "metadata": {},
   "source": [
    "### [Part 2, Exploratory data analysis](https://nbviewer.jupyter.org/github/richchad/DSI-Capstone/blob/master/Part%202%2C%20EDA.ipynb)\n",
    "\n",
    "Review of the time series (games per hour), comparison of players summary statistics and investigation of player networks including visualsations and comments. I provide justification for classifying players (as professional or recreational) and establish some common sense thresholds for these classifications."
   ]
  },
  {
   "cell_type": "markdown",
   "metadata": {},
   "source": [
    "### [Part 3, Classifying players and constructing data frames for time series](https://nbviewer.jupyter.org/github/richchad/DSI-Capstone/blob/master/Part%203%2C%20Classifying%20players%20and%20constructing%20data%20frames%20for%20time%20series.ipynb)\n",
    "\n",
    "Using insights from the exploratory data analysis players are classified. This allows for the creation of three time series, games per hour (all games), games per hour (including at least one recreational player) and number of professionals online. With these classifications I perform an additional (brief) exploratory data analysis. "
   ]
  },
  {
   "cell_type": "markdown",
   "metadata": {},
   "source": [
    "\n",
    "### [Part 4, Time series modelling](https://nbviewer.jupyter.org/github/richchad/DSI-Capstone/blob/master/Part%204%2C%20Time%20series%20modelling.ipynb)\n",
    "\n",
    "For each time series I check for stationarity (Dickey-Fuller Test), seasonality (with auto correlations and partial auto correlations) and establish a common sense base line (predicting the previous observation).\n",
    "\n",
    "To optimise for order and moving averages I create a seperate notebook for each time series and run for loops on the model with different parameters. I discuss the best performing models in this notebook and review their effectiveness for two step ahead dynamic forecasts."
   ]
  },
  {
   "cell_type": "markdown",
   "metadata": {},
   "source": [
    "## Libraries used\n",
    "1. Scikit-learn\n",
    "2. StatsModels\n",
    "3. Scipy\n",
    "1. Pandas\n",
    "2. NumPy\n",
    "3. Matplotlib\n",
    "4. Plotly\n",
    "5. Cufflinks\n",
    "6. Networkx\n"
   ]
  }
 ],
 "metadata": {
  "kernelspec": {
   "display_name": "Python 3",
   "language": "python",
   "name": "python3"
  },
  "language_info": {
   "codemirror_mode": {
    "name": "ipython",
    "version": 3
   },
   "file_extension": ".py",
   "mimetype": "text/x-python",
   "name": "python",
   "nbconvert_exporter": "python",
   "pygments_lexer": "ipython3",
   "version": "3.7.1"
  }
 },
 "nbformat": 4,
 "nbformat_minor": 2
}
