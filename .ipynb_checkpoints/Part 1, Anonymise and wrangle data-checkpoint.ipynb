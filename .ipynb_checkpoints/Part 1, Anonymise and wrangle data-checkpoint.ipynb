{
 "cells": [
  {
   "cell_type": "markdown",
   "metadata": {},
   "source": [
    "### Anonymise data\n",
    "\n",
    "To protect the privacy of individual players I am anonymising the data set. To do this I will shift the time, create new unique player and tournament identifiers and change the buy in level.\n",
    "\n",
    "Changes have been made in such a way as to have no impact on the conclusions drawn by any analysis of the data.\n",
    "\n"
   ]
  },
  {
   "cell_type": "code",
   "execution_count": 1,
   "metadata": {},
   "outputs": [],
   "source": [
    "import pandas as pd\n",
    "import numpy as np\n",
    "from datetime import datetime\n",
    "from datetime import timedelta\n",
    "import copy"
   ]
  },
  {
   "cell_type": "code",
   "execution_count": 2,
   "metadata": {},
   "outputs": [],
   "source": [
    "ts=pd.read_csv('Tournament_summary.csv')"
   ]
  },
  {
   "cell_type": "markdown",
   "metadata": {},
   "source": [
    "### Anonymise tournament summaries"
   ]
  },
  {
   "cell_type": "code",
   "execution_count": 3,
   "metadata": {},
   "outputs": [],
   "source": [
    "ts['total_buyin']=[51 for i in range(len(ts))]\n",
    "\n",
    "ts['prize_buyin']=[50 for i in range(len(ts))]\n",
    "\n",
    "ts['rake_buyin']=[1 for i in range(len(ts))]\n",
    "\n",
    "ts['first_place_prize']=[100 for i in range(len(ts))]\n",
    "\n",
    "ts.drop(columns=['day_of_week', 'time_zone'], inplace=True)\n",
    "\n",
    "ts['tournament_id']=[i+1 for i in range(len(ts))]"
   ]
  },
  {
   "cell_type": "code",
   "execution_count": 4,
   "metadata": {},
   "outputs": [],
   "source": [
    "ts['date_time']=ts['date_time'].apply(pd.Timestamp)\n",
    "\n",
    "ts=ts[ts.date_time>pd.Timestamp('?????')].sort_values(by='date_time') #filter time deleted\n",
    "\n",
    "ts['tournament_id']=[i+1 for i in range(len(ts))]"
   ]
  },
  {
   "cell_type": "code",
   "execution_count": 5,
   "metadata": {},
   "outputs": [],
   "source": [
    "time_change=timedelta(days=?????,  seconds=?????)#days and seconds deleted"
   ]
  },
  {
   "cell_type": "code",
   "execution_count": 6,
   "metadata": {},
   "outputs": [],
   "source": [
    "ts['date_time']=ts['date_time']-time_change"
   ]
  },
  {
   "cell_type": "code",
   "execution_count": 7,
   "metadata": {},
   "outputs": [],
   "source": [
    "ts.set_index('date_time', inplace=True)"
   ]
  },
  {
   "cell_type": "markdown",
   "metadata": {},
   "source": [
    "### Change names"
   ]
  },
  {
   "cell_type": "code",
   "execution_count": 9,
   "metadata": {},
   "outputs": [],
   "source": [
    "all_players=np.unique(list(ts.first_place_id)+list(ts.second_place_id))"
   ]
  },
  {
   "cell_type": "code",
   "execution_count": 10,
   "metadata": {},
   "outputs": [
    {
     "data": {
      "text/plain": [
       "14483"
      ]
     },
     "execution_count": 10,
     "metadata": {},
     "output_type": "execute_result"
    }
   ],
   "source": [
    "len(all_players)"
   ]
  },
  {
   "cell_type": "code",
   "execution_count": 11,
   "metadata": {},
   "outputs": [],
   "source": [
    "#import and initalise fake name generator\n",
    "from faker import Faker\n",
    "fake = Faker()"
   ]
  },
  {
   "cell_type": "code",
   "execution_count": 12,
   "metadata": {},
   "outputs": [],
   "source": [
    "funny_names2=[]\n",
    "\n",
    "#create list of fake names equal in size to list of all players\n",
    "for i in range(len(all_players)):\n",
    "    funny_names2.append(fake.name())\n",
    "\n",
    "funny_names2=list(np.unique(funny_names2))\n",
    "    \n",
    "#replace duplicate names with unique ones\n",
    "while len(funny_names2)< len(all_players):\n",
    "    funny_names2.append(fake.name())\n",
    "    funny_names2=list(np.unique(funny_names2))\n"
   ]
  },
  {
   "cell_type": "code",
   "execution_count": 13,
   "metadata": {},
   "outputs": [],
   "source": [
    "#name converter dictionary\n",
    "conv=zip(all_players, funny_names2)\n",
    "conv_dict={i:j for i,j in conv}\n"
   ]
  },
  {
   "cell_type": "code",
   "execution_count": 14,
   "metadata": {},
   "outputs": [],
   "source": [
    "ts['first_place_id']=[conv_dict[name] for name in ts['first_place_id']]"
   ]
  },
  {
   "cell_type": "code",
   "execution_count": 15,
   "metadata": {},
   "outputs": [],
   "source": [
    "ts['second_place_id']=[conv_dict[name] for name in ts['second_place_id']]"
   ]
  },
  {
   "cell_type": "markdown",
   "metadata": {},
   "source": [
    "### Player summary dataframe"
   ]
  },
  {
   "cell_type": "code",
   "execution_count": 17,
   "metadata": {},
   "outputs": [
    {
     "data": {
      "text/html": [
       "<div>\n",
       "<style scoped>\n",
       "    .dataframe tbody tr th:only-of-type {\n",
       "        vertical-align: middle;\n",
       "    }\n",
       "\n",
       "    .dataframe tbody tr th {\n",
       "        vertical-align: top;\n",
       "    }\n",
       "\n",
       "    .dataframe thead th {\n",
       "        text-align: right;\n",
       "    }\n",
       "</style>\n",
       "<table border=\"1\" class=\"dataframe\">\n",
       "  <thead>\n",
       "    <tr style=\"text-align: right;\">\n",
       "      <th></th>\n",
       "      <th>player_id</th>\n",
       "    </tr>\n",
       "  </thead>\n",
       "  <tbody>\n",
       "    <tr>\n",
       "      <th>0</th>\n",
       "      <td>Aaron Barnes</td>\n",
       "    </tr>\n",
       "    <tr>\n",
       "      <th>1</th>\n",
       "      <td>Aaron Bell Jr.</td>\n",
       "    </tr>\n",
       "    <tr>\n",
       "      <th>2</th>\n",
       "      <td>Aaron Castillo</td>\n",
       "    </tr>\n",
       "    <tr>\n",
       "      <th>3</th>\n",
       "      <td>Aaron Cruz</td>\n",
       "    </tr>\n",
       "    <tr>\n",
       "      <th>4</th>\n",
       "      <td>Aaron Diaz</td>\n",
       "    </tr>\n",
       "  </tbody>\n",
       "</table>\n",
       "</div>"
      ],
      "text/plain": [
       "        player_id\n",
       "0    Aaron Barnes\n",
       "1  Aaron Bell Jr.\n",
       "2  Aaron Castillo\n",
       "3      Aaron Cruz\n",
       "4      Aaron Diaz"
      ]
     },
     "execution_count": 17,
     "metadata": {},
     "output_type": "execute_result"
    }
   ],
   "source": [
    "## Construct player results data frame\n",
    "\n",
    "#Make data frame of all unique players\n",
    "player_df=pd.DataFrame(np.unique((list(ts.first_place_id)+list(ts.second_place_id))), columns=['player_id'])\n",
    "\n",
    "player_df.head()"
   ]
  },
  {
   "cell_type": "code",
   "execution_count": 18,
   "metadata": {},
   "outputs": [],
   "source": [
    "def get_game_count(player_id, ts=ts):\n",
    "    return sum((player_id ==ts.first_place_id)*1)+sum((player_id==ts.second_place_id)*1)\n",
    "\n",
    "def get_total_profit(player_id, ts=ts):\n",
    "    info=ts[(ts.first_place_id==player_id) | (ts.second_place_id ==player_id)]\n",
    "    return round(sum((info.first_place_id==player_id)*info.first_place_prize)-sum(info.total_buyin),2)\n",
    "\n",
    "def get_avg_roi(player_id, ts=ts):\n",
    "    #calculate roi for each individual game and take average\n",
    "    #combine with average stake and game count to give most accurate\n",
    "    #representation of skill level\n",
    "    info=ts[(ts.first_place_id==player_id) | (ts.second_place_id ==player_id)]\n",
    "    roi=(((info.first_place_id==player_id)*info.first_place_prize)/info.total_buyin).mean()\n",
    "    return round((roi-1)*100,2)\n",
    "\n",
    "def get_avg_stake(player_id, ts=ts):\n",
    "    return round(ts[(ts.first_place_id==player_id) | (ts.second_place_id ==player_id)].total_buyin.mean(),2)"
   ]
  },
  {
   "cell_type": "code",
   "execution_count": 19,
   "metadata": {},
   "outputs": [],
   "source": [
    "#build player results dataframe\n",
    "#this function cell takes a bit of time to run because iterating a function with a mask in it takes long\n",
    "\n",
    "player_df['game_count']= player_df.player_id.apply(get_game_count)\n",
    "\n",
    "player_df['total_profit']= player_df.player_id.apply(get_total_profit)\n",
    "\n",
    "player_df['avg_roi_%']= player_df.player_id.apply(get_avg_roi)\n",
    "\n",
    "player_df['avg_stake']= player_df.player_id.apply(get_avg_stake)"
   ]
  },
  {
   "cell_type": "markdown",
   "metadata": {},
   "source": [
    "### Hourly traffic dataframe"
   ]
  },
  {
   "cell_type": "code",
   "execution_count": 20,
   "metadata": {},
   "outputs": [],
   "source": [
    "def get_named_day_of_week(day):\n",
    "    \"Return level in integer format\"\n",
    "    weekday_dict={0: 'mon', 1: 'tue', 2: 'wed', 3: 'thur',\n",
    "                  4: 'fri', 5:'sat' , 6: 'sun'}\n",
    "\n",
    "    return weekday_dict[day]"
   ]
  },
  {
   "cell_type": "code",
   "execution_count": 21,
   "metadata": {},
   "outputs": [],
   "source": [
    "#sample tournament summaries with hourly interval, taking count of each hour\n",
    "hourly_traffic=pd.DataFrame(ts.first_place_id.resample('H').count())\n",
    "\n",
    "#change column name to count\n",
    "hourly_traffic.columns=['game_count']\n",
    "\n",
    "#add weekday info\n",
    "hourly_traffic['day_of_week']=[get_named_day_of_week(x.weekday()) for x in hourly_traffic.index]"
   ]
  },
  {
   "cell_type": "code",
   "execution_count": 30,
   "metadata": {},
   "outputs": [
    {
     "data": {
      "text/html": [
       "<div>\n",
       "<style scoped>\n",
       "    .dataframe tbody tr th:only-of-type {\n",
       "        vertical-align: middle;\n",
       "    }\n",
       "\n",
       "    .dataframe tbody tr th {\n",
       "        vertical-align: top;\n",
       "    }\n",
       "\n",
       "    .dataframe thead th {\n",
       "        text-align: right;\n",
       "    }\n",
       "</style>\n",
       "<table border=\"1\" class=\"dataframe\">\n",
       "  <thead>\n",
       "    <tr style=\"text-align: right;\">\n",
       "      <th></th>\n",
       "      <th>tournament_id</th>\n",
       "      <th>total_buyin</th>\n",
       "      <th>prize_buyin</th>\n",
       "      <th>rake_buyin</th>\n",
       "      <th>first_place_id</th>\n",
       "      <th>second_place_id</th>\n",
       "      <th>first_place_prize</th>\n",
       "      <th>finishing_level</th>\n",
       "    </tr>\n",
       "    <tr>\n",
       "      <th>date_time</th>\n",
       "      <th></th>\n",
       "      <th></th>\n",
       "      <th></th>\n",
       "      <th></th>\n",
       "      <th></th>\n",
       "      <th></th>\n",
       "      <th></th>\n",
       "      <th></th>\n",
       "    </tr>\n",
       "  </thead>\n",
       "  <tbody>\n",
       "    <tr>\n",
       "      <th>2015-11-04 16:00:01</th>\n",
       "      <td>1</td>\n",
       "      <td>51</td>\n",
       "      <td>50</td>\n",
       "      <td>1</td>\n",
       "      <td>Mark Hunter</td>\n",
       "      <td>Juan Avery</td>\n",
       "      <td>100</td>\n",
       "      <td>1</td>\n",
       "    </tr>\n",
       "    <tr>\n",
       "      <th>2015-11-04 16:07:49</th>\n",
       "      <td>2</td>\n",
       "      <td>51</td>\n",
       "      <td>50</td>\n",
       "      <td>1</td>\n",
       "      <td>Michelle Wiley</td>\n",
       "      <td>Dana Brown</td>\n",
       "      <td>100</td>\n",
       "      <td>1</td>\n",
       "    </tr>\n",
       "    <tr>\n",
       "      <th>2015-11-04 16:12:36</th>\n",
       "      <td>3</td>\n",
       "      <td>51</td>\n",
       "      <td>50</td>\n",
       "      <td>1</td>\n",
       "      <td>Dana Brown</td>\n",
       "      <td>Richard Myers</td>\n",
       "      <td>100</td>\n",
       "      <td>2</td>\n",
       "    </tr>\n",
       "    <tr>\n",
       "      <th>2015-11-04 16:21:04</th>\n",
       "      <td>4</td>\n",
       "      <td>51</td>\n",
       "      <td>50</td>\n",
       "      <td>1</td>\n",
       "      <td>Dana Brown</td>\n",
       "      <td>Mary Campbell</td>\n",
       "      <td>100</td>\n",
       "      <td>1</td>\n",
       "    </tr>\n",
       "    <tr>\n",
       "      <th>2015-11-04 16:21:54</th>\n",
       "      <td>5</td>\n",
       "      <td>51</td>\n",
       "      <td>50</td>\n",
       "      <td>1</td>\n",
       "      <td>Jesse Myers</td>\n",
       "      <td>Jonathon Hernandez</td>\n",
       "      <td>100</td>\n",
       "      <td>3</td>\n",
       "    </tr>\n",
       "  </tbody>\n",
       "</table>\n",
       "</div>"
      ],
      "text/plain": [
       "                     tournament_id  total_buyin  prize_buyin  rake_buyin  \\\n",
       "date_time                                                                  \n",
       "2015-11-04 16:00:01              1           51           50           1   \n",
       "2015-11-04 16:07:49              2           51           50           1   \n",
       "2015-11-04 16:12:36              3           51           50           1   \n",
       "2015-11-04 16:21:04              4           51           50           1   \n",
       "2015-11-04 16:21:54              5           51           50           1   \n",
       "\n",
       "                     first_place_id     second_place_id  first_place_prize  \\\n",
       "date_time                                                                    \n",
       "2015-11-04 16:00:01     Mark Hunter          Juan Avery                100   \n",
       "2015-11-04 16:07:49  Michelle Wiley          Dana Brown                100   \n",
       "2015-11-04 16:12:36      Dana Brown       Richard Myers                100   \n",
       "2015-11-04 16:21:04      Dana Brown       Mary Campbell                100   \n",
       "2015-11-04 16:21:54     Jesse Myers  Jonathon Hernandez                100   \n",
       "\n",
       "                     finishing_level  \n",
       "date_time                             \n",
       "2015-11-04 16:00:01                1  \n",
       "2015-11-04 16:07:49                1  \n",
       "2015-11-04 16:12:36                2  \n",
       "2015-11-04 16:21:04                1  \n",
       "2015-11-04 16:21:54                3  "
      ]
     },
     "execution_count": 30,
     "metadata": {},
     "output_type": "execute_result"
    }
   ],
   "source": [
    "ts.head()"
   ]
  },
  {
   "cell_type": "code",
   "execution_count": 23,
   "metadata": {},
   "outputs": [
    {
     "data": {
      "text/html": [
       "<div>\n",
       "<style scoped>\n",
       "    .dataframe tbody tr th:only-of-type {\n",
       "        vertical-align: middle;\n",
       "    }\n",
       "\n",
       "    .dataframe tbody tr th {\n",
       "        vertical-align: top;\n",
       "    }\n",
       "\n",
       "    .dataframe thead th {\n",
       "        text-align: right;\n",
       "    }\n",
       "</style>\n",
       "<table border=\"1\" class=\"dataframe\">\n",
       "  <thead>\n",
       "    <tr style=\"text-align: right;\">\n",
       "      <th></th>\n",
       "      <th>game_count</th>\n",
       "      <th>day_of_week</th>\n",
       "    </tr>\n",
       "    <tr>\n",
       "      <th>date_time</th>\n",
       "      <th></th>\n",
       "      <th></th>\n",
       "    </tr>\n",
       "  </thead>\n",
       "  <tbody>\n",
       "    <tr>\n",
       "      <th>2015-11-04 16:00:00</th>\n",
       "      <td>20</td>\n",
       "      <td>wed</td>\n",
       "    </tr>\n",
       "    <tr>\n",
       "      <th>2015-11-04 17:00:00</th>\n",
       "      <td>15</td>\n",
       "      <td>wed</td>\n",
       "    </tr>\n",
       "    <tr>\n",
       "      <th>2015-11-04 18:00:00</th>\n",
       "      <td>14</td>\n",
       "      <td>wed</td>\n",
       "    </tr>\n",
       "    <tr>\n",
       "      <th>2015-11-04 19:00:00</th>\n",
       "      <td>27</td>\n",
       "      <td>wed</td>\n",
       "    </tr>\n",
       "    <tr>\n",
       "      <th>2015-11-04 20:00:00</th>\n",
       "      <td>36</td>\n",
       "      <td>wed</td>\n",
       "    </tr>\n",
       "  </tbody>\n",
       "</table>\n",
       "</div>"
      ],
      "text/plain": [
       "                     game_count day_of_week\n",
       "date_time                                  \n",
       "2015-11-04 16:00:00          20         wed\n",
       "2015-11-04 17:00:00          15         wed\n",
       "2015-11-04 18:00:00          14         wed\n",
       "2015-11-04 19:00:00          27         wed\n",
       "2015-11-04 20:00:00          36         wed"
      ]
     },
     "execution_count": 23,
     "metadata": {},
     "output_type": "execute_result"
    }
   ],
   "source": [
    "hourly_traffic.head()"
   ]
  },
  {
   "cell_type": "code",
   "execution_count": 24,
   "metadata": {},
   "outputs": [
    {
     "data": {
      "text/html": [
       "<div>\n",
       "<style scoped>\n",
       "    .dataframe tbody tr th:only-of-type {\n",
       "        vertical-align: middle;\n",
       "    }\n",
       "\n",
       "    .dataframe tbody tr th {\n",
       "        vertical-align: top;\n",
       "    }\n",
       "\n",
       "    .dataframe thead th {\n",
       "        text-align: right;\n",
       "    }\n",
       "</style>\n",
       "<table border=\"1\" class=\"dataframe\">\n",
       "  <thead>\n",
       "    <tr style=\"text-align: right;\">\n",
       "      <th></th>\n",
       "      <th>player_id</th>\n",
       "      <th>game_count</th>\n",
       "      <th>total_profit</th>\n",
       "      <th>avg_roi_%</th>\n",
       "      <th>avg_stake</th>\n",
       "    </tr>\n",
       "  </thead>\n",
       "  <tbody>\n",
       "    <tr>\n",
       "      <th>0</th>\n",
       "      <td>Aaron Barnes</td>\n",
       "      <td>1</td>\n",
       "      <td>49</td>\n",
       "      <td>96.08</td>\n",
       "      <td>51.0</td>\n",
       "    </tr>\n",
       "    <tr>\n",
       "      <th>1</th>\n",
       "      <td>Aaron Bell Jr.</td>\n",
       "      <td>3</td>\n",
       "      <td>-53</td>\n",
       "      <td>-34.64</td>\n",
       "      <td>51.0</td>\n",
       "    </tr>\n",
       "    <tr>\n",
       "      <th>2</th>\n",
       "      <td>Aaron Castillo</td>\n",
       "      <td>2</td>\n",
       "      <td>-102</td>\n",
       "      <td>-100.00</td>\n",
       "      <td>51.0</td>\n",
       "    </tr>\n",
       "    <tr>\n",
       "      <th>3</th>\n",
       "      <td>Aaron Cruz</td>\n",
       "      <td>1</td>\n",
       "      <td>-51</td>\n",
       "      <td>-100.00</td>\n",
       "      <td>51.0</td>\n",
       "    </tr>\n",
       "    <tr>\n",
       "      <th>4</th>\n",
       "      <td>Aaron Diaz</td>\n",
       "      <td>23</td>\n",
       "      <td>-573</td>\n",
       "      <td>-48.85</td>\n",
       "      <td>51.0</td>\n",
       "    </tr>\n",
       "  </tbody>\n",
       "</table>\n",
       "</div>"
      ],
      "text/plain": [
       "        player_id  game_count  total_profit  avg_roi_%  avg_stake\n",
       "0    Aaron Barnes           1            49      96.08       51.0\n",
       "1  Aaron Bell Jr.           3           -53     -34.64       51.0\n",
       "2  Aaron Castillo           2          -102    -100.00       51.0\n",
       "3      Aaron Cruz           1           -51    -100.00       51.0\n",
       "4      Aaron Diaz          23          -573     -48.85       51.0"
      ]
     },
     "execution_count": 24,
     "metadata": {},
     "output_type": "execute_result"
    }
   ],
   "source": [
    "player_df.head()"
   ]
  },
  {
   "cell_type": "markdown",
   "metadata": {},
   "source": [
    "### Save dataframes"
   ]
  },
  {
   "cell_type": "code",
   "execution_count": 31,
   "metadata": {},
   "outputs": [],
   "source": [
    "#save tables to csv\n",
    "player_df.to_csv('Player_summary.csv', index=False)\n",
    "ts.to_csv('Tournament_summary.csv')\n",
    "hourly_traffic.to_csv('hourly_traffic.csv')"
   ]
  },
  {
   "cell_type": "code",
   "execution_count": null,
   "metadata": {},
   "outputs": [],
   "source": []
  }
 ],
 "metadata": {
  "kernelspec": {
   "display_name": "Python 3",
   "language": "python",
   "name": "python3"
  },
  "language_info": {
   "codemirror_mode": {
    "name": "ipython",
    "version": 3
   },
   "file_extension": ".py",
   "mimetype": "text/x-python",
   "name": "python",
   "nbconvert_exporter": "python",
   "pygments_lexer": "ipython3",
   "version": "3.7.1"
  }
 },
 "nbformat": 4,
 "nbformat_minor": 2
}
